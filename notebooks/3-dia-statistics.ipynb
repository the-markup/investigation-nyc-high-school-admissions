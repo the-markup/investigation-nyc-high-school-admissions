{
 "cells": [
  {
   "cell_type": "code",
   "execution_count": null,
   "id": "d37f99b8",
   "metadata": {},
   "outputs": [],
   "source": [
    "import pandas as pd\n",
    "import numpy as np"
   ]
  },
  {
   "cell_type": "code",
   "execution_count": null,
   "id": "d69cebc8",
   "metadata": {},
   "outputs": [],
   "source": [
    "info = pd.read_csv('../data/cleaned/info.csv')\n",
    "directory = pd.read_csv('../data/2020_DOE_High_School_Directory.csv')\n",
    "directory21 = pd.read_csv('../data/2021_DOE_High_School_Directory.csv')"
   ]
  },
  {
   "cell_type": "code",
   "execution_count": null,
   "id": "3ef9eefe",
   "metadata": {},
   "outputs": [],
   "source": [
    "applicants = pd.read_csv('../data/cleaned/applicants.csv')\n",
    "applicants = applicants.set_index('dbn')\n",
    "offers = pd.read_csv('../data/cleaned/offers.csv')\n",
    "offers = offers.set_index('dbn')"
   ]
  },
  {
   "cell_type": "code",
   "execution_count": null,
   "id": "175f9726",
   "metadata": {},
   "outputs": [],
   "source": [
    "dia = directory[['dbn', 'school_name', 'diversity_in_admissions']][\n",
    "    directory['dbn'].isin(info['dbn']) & \n",
    "    ~(directory['diversity_in_admissions'].isna())]\n",
    "dia = dia.set_index('dbn')"
   ]
  },
  {
   "cell_type": "code",
   "execution_count": null,
   "id": "dbd8ae9f",
   "metadata": {},
   "outputs": [],
   "source": [
    "print(\"Of the {} screened schools in our dataset, {} participated in the Diversity in Admissions program.\".format(len(info), len(dia)))"
   ]
  },
  {
   "cell_type": "markdown",
   "id": "d231232d",
   "metadata": {},
   "source": [
    "### Compare minimum thresholds to shares of applicants and offers."
   ]
  },
  {
   "cell_type": "code",
   "execution_count": null,
   "id": "a0352177",
   "metadata": {},
   "outputs": [],
   "source": [
    "dia_applicants = applicants.loc[dia.index]"
   ]
  },
  {
   "cell_type": "code",
   "execution_count": null,
   "id": "a10c414f",
   "metadata": {},
   "outputs": [],
   "source": [
    "dia_offers = offers.loc[dia.index]"
   ]
  },
  {
   "cell_type": "code",
   "execution_count": null,
   "id": "e00f10b2",
   "metadata": {},
   "outputs": [],
   "source": [
    "dia['% Applicants'] = dia_applicants['Poverty'].div(dia_applicants['Total']).mul(100).round(1)\n",
    "dia['% Offers'] = dia_offers['Poverty'].div(dia_offers['Total']).mul(100).round(1)\n",
    "dia['% Change'] = dia['% Offers'] - dia['% Applicants']"
   ]
  },
  {
   "cell_type": "code",
   "execution_count": null,
   "id": "097f6822",
   "metadata": {},
   "outputs": [],
   "source": [
    "dia['% Priority'] = dia['diversity_in_admissions'].apply(lambda s: s[s.find('%') - 2:s.find('%')])\n",
    "dia['% Priority'] = pd.to_numeric(dia['% Priority'], errors='coerce')"
   ]
  },
  {
   "cell_type": "code",
   "execution_count": null,
   "id": "df4fee73",
   "metadata": {},
   "outputs": [],
   "source": [
    "dia"
   ]
  },
  {
   "cell_type": "code",
   "execution_count": null,
   "id": "02059e49",
   "metadata": {},
   "outputs": [],
   "source": [
    "dia['diversity_in_admissions'].unique()"
   ]
  },
  {
   "cell_type": "markdown",
   "id": "8dc1f4b3",
   "metadata": {},
   "source": [
    "### Compare 2021 vs. 2020 DIA rates"
   ]
  },
  {
   "cell_type": "code",
   "execution_count": null,
   "id": "4998cc65",
   "metadata": {},
   "outputs": [],
   "source": [
    "dia21 = directory21[['dbn', 'school_name', 'diversity_in_admissions']][\n",
    "    directory21['dbn'].isin(info['dbn']) & \n",
    "    ~(directory21['diversity_in_admissions'].isna())]\n",
    "dia21 = dia21.set_index('dbn')"
   ]
  },
  {
   "cell_type": "code",
   "execution_count": null,
   "id": "520a7f88",
   "metadata": {},
   "outputs": [],
   "source": [
    "list(dia21.loc['02M416'])"
   ]
  },
  {
   "cell_type": "code",
   "execution_count": null,
   "id": "14bc05d0",
   "metadata": {},
   "outputs": [],
   "source": [
    "dia"
   ]
  },
  {
   "cell_type": "code",
   "execution_count": null,
   "id": "96e8aac5",
   "metadata": {},
   "outputs": [],
   "source": [
    "dia21['% Priority'] = dia21['diversity_in_admissions'].apply(lambda s: s[s.find('%') - 2:s.find('%')])\n",
    "dia21['% Priority'] = pd.to_numeric(dia21['% Priority'], errors='coerce')\n",
    "\n",
    "dia21_applicants = applicants.loc[dia21.index]\n",
    "dia21_offers = offers.loc[dia21.index]\n",
    "dia21['% Applicants'] = dia21_applicants['Poverty'].div(dia21_applicants['Total']).mul(100).round(1)\n",
    "dia21['% Offers'] = dia21_offers['Poverty'].div(dia21_offers['Total']).mul(100).round(1)\n",
    "dia21['% Change'] = dia21['% Offers'] - dia21['% Applicants']"
   ]
  },
  {
   "cell_type": "code",
   "execution_count": null,
   "id": "3c775802",
   "metadata": {},
   "outputs": [],
   "source": [
    "\n",
    "list(dia21.loc['02M416'])"
   ]
  },
  {
   "cell_type": "code",
   "execution_count": null,
   "id": "1924e8ee",
   "metadata": {},
   "outputs": [],
   "source": [
    "directory21['geoeligibility'].unique()"
   ]
  },
  {
   "cell_type": "code",
   "execution_count": null,
   "id": "e096e5ad",
   "metadata": {},
   "outputs": [],
   "source": [
    "list(directory21.columns)"
   ]
  },
  {
   "cell_type": "code",
   "execution_count": null,
   "id": "e4096ae2",
   "metadata": {},
   "outputs": [],
   "source": [
    "directory[[col for col in directory.columns if 'priorit' in col]].eq('Priority to continuing 8th graders').sum(axis=1).apply(bool).sum()"
   ]
  },
  {
   "cell_type": "code",
   "execution_count": null,
   "id": "7a80cbed",
   "metadata": {},
   "outputs": [],
   "source": [
    "directory.loc[info.index][[col for col in directory.columns if 'priorit' in col]].eq('Priority to continuing 8th graders').sum(axis=1).apply(bool).sum()"
   ]
  },
  {
   "cell_type": "code",
   "execution_count": 168,
   "id": "77647389",
   "metadata": {},
   "outputs": [
    {
     "data": {
      "text/plain": [
       "427"
      ]
     },
     "execution_count": 168,
     "metadata": {},
     "output_type": "execute_result"
    }
   ],
   "source": [
    "len(directory)"
   ]
  },
  {
   "cell_type": "code",
   "execution_count": 170,
   "id": "ffc6c239",
   "metadata": {},
   "outputs": [
    {
     "data": {
      "text/plain": [
       "82"
      ]
     },
     "execution_count": 170,
     "metadata": {},
     "output_type": "execute_result"
    }
   ],
   "source": [
    "directory21[[col for col in directory21.columns if 'priorit' in col]].eq('Priority to continuing 8th graders').sum(axis=1).apply(bool).sum()"
   ]
  },
  {
   "cell_type": "code",
   "execution_count": 171,
   "id": "62783b4e",
   "metadata": {},
   "outputs": [
    {
     "data": {
      "text/plain": [
       "427"
      ]
     },
     "execution_count": 171,
     "metadata": {},
     "output_type": "execute_result"
    }
   ],
   "source": [
    "len(directory21)"
   ]
  },
  {
   "cell_type": "code",
   "execution_count": null,
   "id": "b3ae1588",
   "metadata": {},
   "outputs": [],
   "source": [
    "directory.loc[info.index][[col for col in directory.columns if 'priorit' in col]]"
   ]
  },
  {
   "cell_type": "code",
   "execution_count": 178,
   "id": "c626918c",
   "metadata": {},
   "outputs": [
    {
     "data": {
      "text/plain": [
       "array(['Priority to Bronx students or residents',\n",
       "       'Open to New York City residents',\n",
       "       'Priority to Queens students or residents',\n",
       "       'Priority to continuing 8th graders',\n",
       "       'Priority to District 6 students or residents', nan,\n",
       "       'Priority to Brooklyn students or residents',\n",
       "       'Priority to Manhattan students or residents',\n",
       "       'Priority to District 15 students or residents',\n",
       "       'Open to New York City residents who take the Specialized High Schools Admissions Test (SHSAT)',\n",
       "       'Priority to students who live in the zoned area',\n",
       "       'Priority to Staten Island students or residents',\n",
       "       'Priority to students who reside in the geographical catchment area',\n",
       "       'Priority to District 2 students or residents',\n",
       "       'Priority to Manhattan students or residents who have lived in the United States two years or fewer and whose home language is Spanish',\n",
       "       'Priority to \"47\" American Sign Language & English Lower School students',\n",
       "       'Priority to Districts 13, 14, 15 and 16 students or residents',\n",
       "       'Priority to students who live in the zoned area for up to 50% of the seats',\n",
       "       'Priority to residents in Mid-Brooklyn Area A (beginning at the intersection of Bedford Avenue and LIRR to Avenue P to Coney Island Avenue, to Avenue K, to East 16th Street, to Avenue J, to East 15th Street, to LIRR to point of origin)',\n",
       "       'Priority to students who live or attend school south of East Houston or West Houston Street',\n",
       "       'Priority to District 3 students or residents',\n",
       "       'Priority to District 32 students or residents',\n",
       "       'Priority to District 1 students or residents',\n",
       "       'Priority to Districts 1 and 2 students or residents',\n",
       "       'Priority to students attending PS/IS 266Q and PS/MS 208Q',\n",
       "       'Priority to Districts 20, 21, and 31 students or residents',\n",
       "       'Priority to District 24 students or residents',\n",
       "       'Priority to Mott Hall, Mott Hall II, and Mott Hall III Middle School students',\n",
       "       'Priority to Districts 15 and 20 students or residents',\n",
       "       'Priority to District 13 students or residents',\n",
       "       'Priority to Districts 24 and 30 students or residents',\n",
       "       'Priority to students attending Isaac Newton Middle School for Math & Science',\n",
       "       'Priority to Fannie Lou Hamer Middle School students'],\n",
       "      dtype=object)"
      ]
     },
     "execution_count": 178,
     "metadata": {},
     "output_type": "execute_result"
    }
   ],
   "source": [
    "directory['admissionspriority11'].unique()"
   ]
  },
  {
   "cell_type": "code",
   "execution_count": null,
   "id": "e7833ad7",
   "metadata": {},
   "outputs": [],
   "source": []
  }
 ],
 "metadata": {
  "kernelspec": {
   "display_name": "Python 3",
   "language": "python",
   "name": "python3"
  },
  "language_info": {
   "codemirror_mode": {
    "name": "ipython",
    "version": 3
   },
   "file_extension": ".py",
   "mimetype": "text/x-python",
   "name": "python",
   "nbconvert_exporter": "python",
   "pygments_lexer": "ipython3",
   "version": "3.7.5"
  }
 },
 "nbformat": 4,
 "nbformat_minor": 5
}
