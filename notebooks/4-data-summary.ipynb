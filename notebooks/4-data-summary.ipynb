{
 "cells": [
  {
   "cell_type": "code",
   "execution_count": 1,
   "id": "18dcee9c",
   "metadata": {},
   "outputs": [],
   "source": [
    "from collections import Counter\n",
    "\n",
    "import pandas as pd\n",
    "import numpy as np"
   ]
  },
  {
   "cell_type": "code",
   "execution_count": 2,
   "id": "4f480265",
   "metadata": {},
   "outputs": [],
   "source": [
    "metrics = pd.read_csv('../data/metrics_2019.csv')\n",
    "metrics = metrics.set_index('dbn')\n",
    "\n",
    "applicants = pd.read_csv('../data/cleaned/applicants.csv')\n",
    "applicants = applicants.set_index('dbn')\n",
    "\n",
    "offers = pd.read_csv('../data/cleaned/offers.csv')\n",
    "offers.set_index('dbn')\n",
    "\n",
    "info = pd.read_csv('../data/cleaned/info.csv')"
   ]
  },
  {
   "cell_type": "code",
   "execution_count": 3,
   "id": "ab5b45e3",
   "metadata": {},
   "outputs": [],
   "source": [
    "metrics.loc[list(info['dbn'])].T.apply(Counter, axis=1).apply(pd.Series)[[\n",
    "    'Far Below Average',\n",
    "    'Below Average',\n",
    "    'Average',\n",
    "    'Above Average',\n",
    "    'Far Above Average'\n",
    "]].fillna(0).to_csv('../output/screened-school-ranking-breakdown.csv')"
   ]
  },
  {
   "cell_type": "code",
   "execution_count": 4,
   "id": "e90ccc84",
   "metadata": {},
   "outputs": [],
   "source": [
    "cols = ['Asian', 'Black', 'Latino', 'White', 'Other', 'Private']\n",
    "\n",
    "a_redact = pd.DataFrame()\n",
    "a_redact['Redactions for <6 Students'] = applicants.rename(columns={'Hispanic':'Latino'}).eq('s').sum()[cols]\n",
    "a_redact['Redactions for 6+ Students'] = applicants.rename(columns={'Hispanic':'Latino'}).eq('s^').sum()[cols]\n",
    "a_redact.to_csv('../output/redactions-applicants.csv')\n",
    "\n",
    "o_redact = pd.DataFrame()\n",
    "o_redact['Redactions for <6 Students'] = offers.rename(columns={'Hispanic':'Latino'}).eq('s').sum()[cols]\n",
    "o_redact['Redactions for 6+ Students'] = offers.rename(columns={'Hispanic':'Latino'}).eq('s^').sum()[cols]\n",
    "o_redact.to_csv('../output/redactions-offers.csv')"
   ]
  },
  {
   "cell_type": "code",
   "execution_count": null,
   "id": "4fecd196",
   "metadata": {},
   "outputs": [],
   "source": []
  }
 ],
 "metadata": {
  "kernelspec": {
   "display_name": "Python 3",
   "language": "python",
   "name": "python3"
  },
  "language_info": {
   "codemirror_mode": {
    "name": "ipython",
    "version": 3
   },
   "file_extension": ".py",
   "mimetype": "text/x-python",
   "name": "python",
   "nbconvert_exporter": "python",
   "pygments_lexer": "ipython3",
   "version": "3.7.5"
  }
 },
 "nbformat": 4,
 "nbformat_minor": 5
}
