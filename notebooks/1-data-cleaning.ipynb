{
 "cells": [
  {
   "cell_type": "code",
   "execution_count": 1,
   "id": "62782da4",
   "metadata": {},
   "outputs": [],
   "source": [
    "import pandas as pd\n",
    "import numpy as np\n",
    "from functools import partial"
   ]
  },
  {
   "cell_type": "code",
   "execution_count": 92,
   "id": "5e3c1ac1",
   "metadata": {},
   "outputs": [],
   "source": [
    "folder = '../data/'\n",
    "metrics = pd.read_csv(folder + 'metrics_2019.csv')\n",
    "metrics = metrics.set_index('dbn')\n",
    "foil = pd.read_csv(folder + 'foil/data.csv', header=[0,1])"
   ]
  },
  {
   "cell_type": "code",
   "execution_count": 10,
   "id": "43441a5c",
   "metadata": {},
   "outputs": [],
   "source": [
    "dbns = list(foil[('School DBN', 'Unnamed: 0_level_1')])"
   ]
  },
  {
   "cell_type": "markdown",
   "id": "46bf2838",
   "metadata": {},
   "source": [
    "## Split into applicant, offer, and school info dataframes"
   ]
  },
  {
   "cell_type": "code",
   "execution_count": 11,
   "id": "94186652",
   "metadata": {},
   "outputs": [],
   "source": [
    "applicant_cols = [\n",
    "    (                 'School DBN', 'Unnamed: 0_level_1'),\n",
    "    (                 'Applicants',              'Total'),\n",
    "    (         'Unnamed: 4_level_0',              'Asian'),\n",
    "    (         'Unnamed: 5_level_0',              'Black'),\n",
    "    (         'Unnamed: 6_level_0',           'Hispanic'),\n",
    "    (         'Unnamed: 7_level_0',              'Other'),\n",
    "    (         'Unnamed: 8_level_0',              'White'),\n",
    "    (         'Unnamed: 9_level_0',            'Private'),\n",
    "    (        'Unnamed: 10_level_0',            'Poverty'),\n",
    "    (        'Unnamed: 11_level_0',                'ELL'),\n",
    "    (        'Unnamed: 12_level_0',                'SWD'),\n",
    "]\n",
    "\n",
    "offer_cols = [\n",
    "    (                 'School DBN', 'Unnamed: 0_level_1'),\n",
    "    (                     'Offers',              'Total'),\n",
    "    (        'Unnamed: 14_level_0',              'Asian'),\n",
    "    (        'Unnamed: 15_level_0',              'Black'),\n",
    "    (        'Unnamed: 16_level_0',           'Hispanic'),\n",
    "    (        'Unnamed: 17_level_0',              'Other'),\n",
    "    (        'Unnamed: 18_level_0',              'White'),\n",
    "    (        'Unnamed: 19_level_0',            'Private'),\n",
    "    (        'Unnamed: 20_level_0',            'Poverty'),\n",
    "    (        'Unnamed: 21_level_0',                'ELL'),\n",
    "    (        'Unnamed: 22_level_0',                'SWD')\n",
    "]\n",
    "\n",
    "info_cols = [\n",
    "    (                 'School DBN', 'Unnamed: 0_level_1'),\n",
    "    (                'School Name', 'Unnamed: 1_level_1'),\n",
    "    ('School Admissions Method(s)', 'Unnamed: 2_level_1'),\n",
    "]\n",
    "\n",
    "applicants = foil[applicant_cols].copy()\n",
    "offers = foil[offer_cols].copy()\n",
    "info = foil[info_cols].copy()\n",
    "info.columns = ['school_name', 'admissions_method']"
   ]
  },
  {
   "cell_type": "code",
   "execution_count": 12,
   "id": "f8326e32",
   "metadata": {},
   "outputs": [],
   "source": [
    "applicants.columns = applicants.columns.get_level_values(1)\n",
    "applicants = applicants.rename(columns={'Unnamed: 0_level_1':'dbn'})\n",
    "applicants = applicants.set_index('dbn')\n",
    "\n",
    "offers.columns = offers.columns.get_level_values(1)\n",
    "offers = offers.rename(columns={'Unnamed: 0_level_1':'dbn'})\n",
    "offers = offers.set_index('dbn')\n",
    "\n",
    "info.columns = info.columns.get_level_values(1)\n",
    "info = info.rename(columns={'Unnamed: 0_level_1':'dbn'})\n",
    "info = info.set_index('dbn')\n",
    "\n",
    "screened = metrics.loc[info.index]"
   ]
  },
  {
   "cell_type": "code",
   "execution_count": 85,
   "id": "131e92be",
   "metadata": {},
   "outputs": [],
   "source": [
    "g = partial(min, 5)\n",
    "\n",
    "def c(row):\n",
    "    replacement = redacted_applicants.apply(g).loc[row.name]\n",
    "    for key in row.keys():\n",
    "        if row[key] == 's':\n",
    "            row[key] = replacement\n",
    "    return row\n",
    "\n",
    "def replace_s_offers(row):\n",
    "    replacement = redacted_offers.apply(g).loc[row.name]\n",
    "    for key in row.keys():\n",
    "        if row[key] == 's':\n",
    "            row[key] = replacement\n",
    "    return row"
   ]
  },
  {
   "cell_type": "code",
   "execution_count": 86,
   "id": "c090639e",
   "metadata": {},
   "outputs": [],
   "source": [
    "min_applicants = applicants.copy()\n",
    "max_applicants = applicants.copy()\n",
    "\n",
    "# Replace redactions w/ min possible\n",
    "min_applicants = min_applicants.replace('s', 0).replace('s^', 6)\n",
    "min_applicants = min_applicants.apply(pd.to_numeric, errors='coerce')\n",
    "\n",
    "# Calculate total redacted students for each row\n",
    "unredacted_applicants = applicants[['Asian','Black','Hispanic','Other','White','Private']].apply(pd.to_numeric, errors='coerce').sum(axis=1)\n",
    "redacted_applicants   = min_applicants['Total'].sub(unredacted_applicants)\n",
    "\n",
    "# Replace redactions w max possible\n",
    "max_applicants = max_applicants.apply(replace_s_applicants, axis=1)\n",
    "max_applicants = max_applicants.apply(pd.to_numeric, errors='coerce')\n",
    "max_applicants = max_applicants.apply(lambda row: row.fillna(redacted_applicants[row.name]), axis=1)"
   ]
  },
  {
   "cell_type": "code",
   "execution_count": 87,
   "id": "2c02833b",
   "metadata": {},
   "outputs": [],
   "source": [
    "min_offers = offers.copy()\n",
    "max_offers = offers.copy()\n",
    "\n",
    "# Replace redactions w/ min possible \n",
    "min_offers = min_offers.replace('s', 0).replace('s^', 6)\n",
    "min_offers = min_offers.apply(pd.to_numeric, errors='coerce')\n",
    "\n",
    "# Calculate total redacted students for each row\n",
    "unredacted_offers = offers[['Asian','Black','Hispanic','Other','White','Private']].apply(pd.to_numeric, errors='coerce').sum(axis=1)\n",
    "redacted_offers   = min_offers['Total'].sub(unredacted_offers)\n",
    "\n",
    "# Replace redactions w max possible\n",
    "max_offers = max_offers.apply(replace_s, axis=1).apply(pd.to_numeric, errors='coerce')\n",
    "max_offers = max_offers.apply(lambda row: row.fillna(redacted_offers[row.name]), axis=1)"
   ]
  },
  {
   "cell_type": "code",
   "execution_count": 88,
   "id": "53972e0a",
   "metadata": {},
   "outputs": [],
   "source": [
    "avg_offers = min_offers.add(max_offers).div(2)\n",
    "avg_applicants = min_applicants.add(max_applicants).div(2)"
   ]
  },
  {
   "cell_type": "code",
   "execution_count": 89,
   "id": "ed99f84c",
   "metadata": {},
   "outputs": [],
   "source": [
    "folder = '../data/cleaned/'\n",
    "\n",
    "max_applicants.to_csv(folder + 'max_applicants.csv')\n",
    "min_applicants.to_csv(folder + 'min_applicants.csv')\n",
    "avg_applicants.to_csv(folder + 'avg_applicants.csv')\n",
    "applicants.to_csv(folder + 'applicants.csv')\n",
    "\n",
    "max_offers.to_csv(folder + 'max_offers.csv')\n",
    "min_offers.to_csv(folder + 'min_offers.csv')\n",
    "avg_offers.to_csv(folder + 'avg_offers.csv')\n",
    "offers.to_csv(folder + 'offers.csv')\n",
    "\n",
    "info.to_csv(folder + 'info.csv')"
   ]
  }
 ],
 "metadata": {
  "kernelspec": {
   "display_name": "Python 3",
   "language": "python",
   "name": "python3"
  },
  "language_info": {
   "codemirror_mode": {
    "name": "ipython",
    "version": 3
   },
   "file_extension": ".py",
   "mimetype": "text/x-python",
   "name": "python",
   "nbconvert_exporter": "python",
   "pygments_lexer": "ipython3",
   "version": "3.7.5"
  }
 },
 "nbformat": 4,
 "nbformat_minor": 5
}
